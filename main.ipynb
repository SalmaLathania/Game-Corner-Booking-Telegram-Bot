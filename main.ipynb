{
  "nbformat": 4,
  "nbformat_minor": 0,
  "metadata": {
    "colab": {
      "provenance": []
    },
    "kernelspec": {
      "name": "python3",
      "display_name": "Python 3"
    },
    "language_info": {
      "name": "python"
    }
  },
  "cells": [
    {
      "cell_type": "markdown",
      "source": [
        "# **Import Libraries**"
      ],
      "metadata": {
        "id": "1omCZ4QVVtIU"
      }
    },
    {
      "cell_type": "code",
      "source": [
        "!pip install telebot"
      ],
      "metadata": {
        "colab": {
          "base_uri": "https://localhost:8080/"
        },
        "id": "iZz-xj0361jz",
        "outputId": "cfd6504c-2fab-440a-f3f6-2c520b7989b5"
      },
      "execution_count": null,
      "outputs": [
        {
          "output_type": "stream",
          "name": "stdout",
          "text": [
            "Collecting telebot\n",
            "  Downloading telebot-0.0.5-py3-none-any.whl.metadata (2.0 kB)\n",
            "Collecting pyTelegramBotAPI (from telebot)\n",
            "  Downloading pytelegrambotapi-4.25.0-py3-none-any.whl.metadata (48 kB)\n",
            "\u001b[2K     \u001b[90m━━━━━━━━━━━━━━━━━━━━━━━━━━━━━━━━━━━━━━━━\u001b[0m \u001b[32m48.1/48.1 kB\u001b[0m \u001b[31m2.7 MB/s\u001b[0m eta \u001b[36m0:00:00\u001b[0m\n",
            "\u001b[?25hRequirement already satisfied: requests in /usr/local/lib/python3.10/dist-packages (from telebot) (2.32.3)\n",
            "Requirement already satisfied: charset-normalizer<4,>=2 in /usr/local/lib/python3.10/dist-packages (from requests->telebot) (3.4.0)\n",
            "Requirement already satisfied: idna<4,>=2.5 in /usr/local/lib/python3.10/dist-packages (from requests->telebot) (3.10)\n",
            "Requirement already satisfied: urllib3<3,>=1.21.1 in /usr/local/lib/python3.10/dist-packages (from requests->telebot) (2.2.3)\n",
            "Requirement already satisfied: certifi>=2017.4.17 in /usr/local/lib/python3.10/dist-packages (from requests->telebot) (2024.12.14)\n",
            "Downloading telebot-0.0.5-py3-none-any.whl (4.8 kB)\n",
            "Downloading pytelegrambotapi-4.25.0-py3-none-any.whl (269 kB)\n",
            "\u001b[2K   \u001b[90m━━━━━━━━━━━━━━━━━━━━━━━━━━━━━━━━━━━━━━━━\u001b[0m \u001b[32m269.2/269.2 kB\u001b[0m \u001b[31m5.7 MB/s\u001b[0m eta \u001b[36m0:00:00\u001b[0m\n",
            "\u001b[?25hInstalling collected packages: pyTelegramBotAPI, telebot\n",
            "Successfully installed pyTelegramBotAPI-4.25.0 telebot-0.0.5\n"
          ]
        }
      ]
    },
    {
      "cell_type": "code",
      "execution_count": null,
      "metadata": {
        "colab": {
          "base_uri": "https://localhost:8080/"
        },
        "id": "ae7LbWqDYtlV",
        "outputId": "1e74f64c-6c68-4996-aece-132a91ce030f"
      },
      "outputs": [
        {
          "output_type": "stream",
          "name": "stdout",
          "text": [
            "Requirement already satisfied: google-api-python-client in /usr/local/lib/python3.10/dist-packages (2.155.0)\n",
            "Requirement already satisfied: google-auth in /usr/local/lib/python3.10/dist-packages (2.27.0)\n",
            "Requirement already satisfied: google-auth-httplib2 in /usr/local/lib/python3.10/dist-packages (0.2.0)\n",
            "Requirement already satisfied: google-auth-oauthlib in /usr/local/lib/python3.10/dist-packages (1.2.1)\n",
            "Requirement already satisfied: pandas in /usr/local/lib/python3.10/dist-packages (2.2.2)\n",
            "Requirement already satisfied: flask in /usr/local/lib/python3.10/dist-packages (3.1.0)\n",
            "Collecting twilio\n",
            "  Downloading twilio-9.4.1-py2.py3-none-any.whl.metadata (12 kB)\n",
            "Requirement already satisfied: httplib2<1.dev0,>=0.19.0 in /usr/local/lib/python3.10/dist-packages (from google-api-python-client) (0.22.0)\n",
            "Requirement already satisfied: google-api-core!=2.0.*,!=2.1.*,!=2.2.*,!=2.3.0,<3.0.0.dev0,>=1.31.5 in /usr/local/lib/python3.10/dist-packages (from google-api-python-client) (2.19.2)\n",
            "Requirement already satisfied: uritemplate<5,>=3.0.1 in /usr/local/lib/python3.10/dist-packages (from google-api-python-client) (4.1.1)\n",
            "Requirement already satisfied: cachetools<6.0,>=2.0.0 in /usr/local/lib/python3.10/dist-packages (from google-auth) (5.5.0)\n",
            "Requirement already satisfied: pyasn1-modules>=0.2.1 in /usr/local/lib/python3.10/dist-packages (from google-auth) (0.4.1)\n",
            "Requirement already satisfied: rsa<5,>=3.1.4 in /usr/local/lib/python3.10/dist-packages (from google-auth) (4.9)\n",
            "Requirement already satisfied: requests-oauthlib>=0.7.0 in /usr/local/lib/python3.10/dist-packages (from google-auth-oauthlib) (1.3.1)\n",
            "Requirement already satisfied: numpy>=1.22.4 in /usr/local/lib/python3.10/dist-packages (from pandas) (1.26.4)\n",
            "Requirement already satisfied: python-dateutil>=2.8.2 in /usr/local/lib/python3.10/dist-packages (from pandas) (2.8.2)\n",
            "Requirement already satisfied: pytz>=2020.1 in /usr/local/lib/python3.10/dist-packages (from pandas) (2024.2)\n",
            "Requirement already satisfied: tzdata>=2022.7 in /usr/local/lib/python3.10/dist-packages (from pandas) (2024.2)\n",
            "Requirement already satisfied: Werkzeug>=3.1 in /usr/local/lib/python3.10/dist-packages (from flask) (3.1.3)\n",
            "Requirement already satisfied: Jinja2>=3.1.2 in /usr/local/lib/python3.10/dist-packages (from flask) (3.1.4)\n",
            "Requirement already satisfied: itsdangerous>=2.2 in /usr/local/lib/python3.10/dist-packages (from flask) (2.2.0)\n",
            "Requirement already satisfied: click>=8.1.3 in /usr/local/lib/python3.10/dist-packages (from flask) (8.1.7)\n",
            "Requirement already satisfied: blinker>=1.9 in /usr/local/lib/python3.10/dist-packages (from flask) (1.9.0)\n",
            "Requirement already satisfied: requests>=2.0.0 in /usr/local/lib/python3.10/dist-packages (from twilio) (2.32.3)\n",
            "Requirement already satisfied: PyJWT<3.0.0,>=2.0.0 in /usr/local/lib/python3.10/dist-packages (from twilio) (2.10.1)\n",
            "Requirement already satisfied: aiohttp>=3.8.4 in /usr/local/lib/python3.10/dist-packages (from twilio) (3.11.10)\n",
            "Collecting aiohttp-retry==2.8.3 (from twilio)\n",
            "  Downloading aiohttp_retry-2.8.3-py3-none-any.whl.metadata (8.9 kB)\n",
            "Requirement already satisfied: aiohappyeyeballs>=2.3.0 in /usr/local/lib/python3.10/dist-packages (from aiohttp>=3.8.4->twilio) (2.4.4)\n",
            "Requirement already satisfied: aiosignal>=1.1.2 in /usr/local/lib/python3.10/dist-packages (from aiohttp>=3.8.4->twilio) (1.3.2)\n",
            "Requirement already satisfied: async-timeout<6.0,>=4.0 in /usr/local/lib/python3.10/dist-packages (from aiohttp>=3.8.4->twilio) (4.0.3)\n",
            "Requirement already satisfied: attrs>=17.3.0 in /usr/local/lib/python3.10/dist-packages (from aiohttp>=3.8.4->twilio) (24.3.0)\n",
            "Requirement already satisfied: frozenlist>=1.1.1 in /usr/local/lib/python3.10/dist-packages (from aiohttp>=3.8.4->twilio) (1.5.0)\n",
            "Requirement already satisfied: multidict<7.0,>=4.5 in /usr/local/lib/python3.10/dist-packages (from aiohttp>=3.8.4->twilio) (6.1.0)\n",
            "Requirement already satisfied: propcache>=0.2.0 in /usr/local/lib/python3.10/dist-packages (from aiohttp>=3.8.4->twilio) (0.2.1)\n",
            "Requirement already satisfied: yarl<2.0,>=1.17.0 in /usr/local/lib/python3.10/dist-packages (from aiohttp>=3.8.4->twilio) (1.18.3)\n",
            "Requirement already satisfied: googleapis-common-protos<2.0.dev0,>=1.56.2 in /usr/local/lib/python3.10/dist-packages (from google-api-core!=2.0.*,!=2.1.*,!=2.2.*,!=2.3.0,<3.0.0.dev0,>=1.31.5->google-api-python-client) (1.66.0)\n",
            "Requirement already satisfied: protobuf!=3.20.0,!=3.20.1,!=4.21.0,!=4.21.1,!=4.21.2,!=4.21.3,!=4.21.4,!=4.21.5,<6.0.0.dev0,>=3.19.5 in /usr/local/lib/python3.10/dist-packages (from google-api-core!=2.0.*,!=2.1.*,!=2.2.*,!=2.3.0,<3.0.0.dev0,>=1.31.5->google-api-python-client) (4.25.5)\n",
            "Requirement already satisfied: proto-plus<2.0.0dev,>=1.22.3 in /usr/local/lib/python3.10/dist-packages (from google-api-core!=2.0.*,!=2.1.*,!=2.2.*,!=2.3.0,<3.0.0.dev0,>=1.31.5->google-api-python-client) (1.25.0)\n",
            "Requirement already satisfied: pyparsing!=3.0.0,!=3.0.1,!=3.0.2,!=3.0.3,<4,>=2.4.2 in /usr/local/lib/python3.10/dist-packages (from httplib2<1.dev0,>=0.19.0->google-api-python-client) (3.2.0)\n",
            "Requirement already satisfied: MarkupSafe>=2.0 in /usr/local/lib/python3.10/dist-packages (from Jinja2>=3.1.2->flask) (3.0.2)\n",
            "Requirement already satisfied: pyasn1<0.7.0,>=0.4.6 in /usr/local/lib/python3.10/dist-packages (from pyasn1-modules>=0.2.1->google-auth) (0.6.1)\n",
            "Requirement already satisfied: six>=1.5 in /usr/local/lib/python3.10/dist-packages (from python-dateutil>=2.8.2->pandas) (1.17.0)\n",
            "Requirement already satisfied: charset-normalizer<4,>=2 in /usr/local/lib/python3.10/dist-packages (from requests>=2.0.0->twilio) (3.4.0)\n",
            "Requirement already satisfied: idna<4,>=2.5 in /usr/local/lib/python3.10/dist-packages (from requests>=2.0.0->twilio) (3.10)\n",
            "Requirement already satisfied: urllib3<3,>=1.21.1 in /usr/local/lib/python3.10/dist-packages (from requests>=2.0.0->twilio) (2.2.3)\n",
            "Requirement already satisfied: certifi>=2017.4.17 in /usr/local/lib/python3.10/dist-packages (from requests>=2.0.0->twilio) (2024.12.14)\n",
            "Requirement already satisfied: oauthlib>=3.0.0 in /usr/local/lib/python3.10/dist-packages (from requests-oauthlib>=0.7.0->google-auth-oauthlib) (3.2.2)\n",
            "Requirement already satisfied: typing-extensions>=4.1.0 in /usr/local/lib/python3.10/dist-packages (from multidict<7.0,>=4.5->aiohttp>=3.8.4->twilio) (4.12.2)\n",
            "Downloading twilio-9.4.1-py2.py3-none-any.whl (1.9 MB)\n",
            "\u001b[2K   \u001b[90m━━━━━━━━━━━━━━━━━━━━━━━━━━━━━━━━━━━━━━━━\u001b[0m \u001b[32m1.9/1.9 MB\u001b[0m \u001b[31m19.5 MB/s\u001b[0m eta \u001b[36m0:00:00\u001b[0m\n",
            "\u001b[?25hDownloading aiohttp_retry-2.8.3-py3-none-any.whl (9.8 kB)\n",
            "Installing collected packages: aiohttp-retry, twilio\n",
            "Successfully installed aiohttp-retry-2.8.3 twilio-9.4.1\n"
          ]
        }
      ],
      "source": [
        "!pip install google-api-python-client google-auth google-auth-httplib2 google-auth-oauthlib pandas flask twilio"
      ]
    },
    {
      "cell_type": "code",
      "execution_count": null,
      "metadata": {
        "colab": {
          "base_uri": "https://localhost:8080/",
          "height": 73
        },
        "id": "yAP2R1biiKsh",
        "outputId": "f7573f1a-5b82-4940-c879-f0a3b7c589b4",
        "collapsed": true
      },
      "outputs": [
        {
          "output_type": "display_data",
          "data": {
            "text/plain": [
              "<IPython.core.display.HTML object>"
            ],
            "text/html": [
              "\n",
              "     <input type=\"file\" id=\"files-7d7c1e7d-024f-4d77-986a-34f493f0e63e\" name=\"files[]\" multiple disabled\n",
              "        style=\"border:none\" />\n",
              "     <output id=\"result-7d7c1e7d-024f-4d77-986a-34f493f0e63e\">\n",
              "      Upload widget is only available when the cell has been executed in the\n",
              "      current browser session. Please rerun this cell to enable.\n",
              "      </output>\n",
              "      <script>// Copyright 2017 Google LLC\n",
              "//\n",
              "// Licensed under the Apache License, Version 2.0 (the \"License\");\n",
              "// you may not use this file except in compliance with the License.\n",
              "// You may obtain a copy of the License at\n",
              "//\n",
              "//      http://www.apache.org/licenses/LICENSE-2.0\n",
              "//\n",
              "// Unless required by applicable law or agreed to in writing, software\n",
              "// distributed under the License is distributed on an \"AS IS\" BASIS,\n",
              "// WITHOUT WARRANTIES OR CONDITIONS OF ANY KIND, either express or implied.\n",
              "// See the License for the specific language governing permissions and\n",
              "// limitations under the License.\n",
              "\n",
              "/**\n",
              " * @fileoverview Helpers for google.colab Python module.\n",
              " */\n",
              "(function(scope) {\n",
              "function span(text, styleAttributes = {}) {\n",
              "  const element = document.createElement('span');\n",
              "  element.textContent = text;\n",
              "  for (const key of Object.keys(styleAttributes)) {\n",
              "    element.style[key] = styleAttributes[key];\n",
              "  }\n",
              "  return element;\n",
              "}\n",
              "\n",
              "// Max number of bytes which will be uploaded at a time.\n",
              "const MAX_PAYLOAD_SIZE = 100 * 1024;\n",
              "\n",
              "function _uploadFiles(inputId, outputId) {\n",
              "  const steps = uploadFilesStep(inputId, outputId);\n",
              "  const outputElement = document.getElementById(outputId);\n",
              "  // Cache steps on the outputElement to make it available for the next call\n",
              "  // to uploadFilesContinue from Python.\n",
              "  outputElement.steps = steps;\n",
              "\n",
              "  return _uploadFilesContinue(outputId);\n",
              "}\n",
              "\n",
              "// This is roughly an async generator (not supported in the browser yet),\n",
              "// where there are multiple asynchronous steps and the Python side is going\n",
              "// to poll for completion of each step.\n",
              "// This uses a Promise to block the python side on completion of each step,\n",
              "// then passes the result of the previous step as the input to the next step.\n",
              "function _uploadFilesContinue(outputId) {\n",
              "  const outputElement = document.getElementById(outputId);\n",
              "  const steps = outputElement.steps;\n",
              "\n",
              "  const next = steps.next(outputElement.lastPromiseValue);\n",
              "  return Promise.resolve(next.value.promise).then((value) => {\n",
              "    // Cache the last promise value to make it available to the next\n",
              "    // step of the generator.\n",
              "    outputElement.lastPromiseValue = value;\n",
              "    return next.value.response;\n",
              "  });\n",
              "}\n",
              "\n",
              "/**\n",
              " * Generator function which is called between each async step of the upload\n",
              " * process.\n",
              " * @param {string} inputId Element ID of the input file picker element.\n",
              " * @param {string} outputId Element ID of the output display.\n",
              " * @return {!Iterable<!Object>} Iterable of next steps.\n",
              " */\n",
              "function* uploadFilesStep(inputId, outputId) {\n",
              "  const inputElement = document.getElementById(inputId);\n",
              "  inputElement.disabled = false;\n",
              "\n",
              "  const outputElement = document.getElementById(outputId);\n",
              "  outputElement.innerHTML = '';\n",
              "\n",
              "  const pickedPromise = new Promise((resolve) => {\n",
              "    inputElement.addEventListener('change', (e) => {\n",
              "      resolve(e.target.files);\n",
              "    });\n",
              "  });\n",
              "\n",
              "  const cancel = document.createElement('button');\n",
              "  inputElement.parentElement.appendChild(cancel);\n",
              "  cancel.textContent = 'Cancel upload';\n",
              "  const cancelPromise = new Promise((resolve) => {\n",
              "    cancel.onclick = () => {\n",
              "      resolve(null);\n",
              "    };\n",
              "  });\n",
              "\n",
              "  // Wait for the user to pick the files.\n",
              "  const files = yield {\n",
              "    promise: Promise.race([pickedPromise, cancelPromise]),\n",
              "    response: {\n",
              "      action: 'starting',\n",
              "    }\n",
              "  };\n",
              "\n",
              "  cancel.remove();\n",
              "\n",
              "  // Disable the input element since further picks are not allowed.\n",
              "  inputElement.disabled = true;\n",
              "\n",
              "  if (!files) {\n",
              "    return {\n",
              "      response: {\n",
              "        action: 'complete',\n",
              "      }\n",
              "    };\n",
              "  }\n",
              "\n",
              "  for (const file of files) {\n",
              "    const li = document.createElement('li');\n",
              "    li.append(span(file.name, {fontWeight: 'bold'}));\n",
              "    li.append(span(\n",
              "        `(${file.type || 'n/a'}) - ${file.size} bytes, ` +\n",
              "        `last modified: ${\n",
              "            file.lastModifiedDate ? file.lastModifiedDate.toLocaleDateString() :\n",
              "                                    'n/a'} - `));\n",
              "    const percent = span('0% done');\n",
              "    li.appendChild(percent);\n",
              "\n",
              "    outputElement.appendChild(li);\n",
              "\n",
              "    const fileDataPromise = new Promise((resolve) => {\n",
              "      const reader = new FileReader();\n",
              "      reader.onload = (e) => {\n",
              "        resolve(e.target.result);\n",
              "      };\n",
              "      reader.readAsArrayBuffer(file);\n",
              "    });\n",
              "    // Wait for the data to be ready.\n",
              "    let fileData = yield {\n",
              "      promise: fileDataPromise,\n",
              "      response: {\n",
              "        action: 'continue',\n",
              "      }\n",
              "    };\n",
              "\n",
              "    // Use a chunked sending to avoid message size limits. See b/62115660.\n",
              "    let position = 0;\n",
              "    do {\n",
              "      const length = Math.min(fileData.byteLength - position, MAX_PAYLOAD_SIZE);\n",
              "      const chunk = new Uint8Array(fileData, position, length);\n",
              "      position += length;\n",
              "\n",
              "      const base64 = btoa(String.fromCharCode.apply(null, chunk));\n",
              "      yield {\n",
              "        response: {\n",
              "          action: 'append',\n",
              "          file: file.name,\n",
              "          data: base64,\n",
              "        },\n",
              "      };\n",
              "\n",
              "      let percentDone = fileData.byteLength === 0 ?\n",
              "          100 :\n",
              "          Math.round((position / fileData.byteLength) * 100);\n",
              "      percent.textContent = `${percentDone}% done`;\n",
              "\n",
              "    } while (position < fileData.byteLength);\n",
              "  }\n",
              "\n",
              "  // All done.\n",
              "  yield {\n",
              "    response: {\n",
              "      action: 'complete',\n",
              "    }\n",
              "  };\n",
              "}\n",
              "\n",
              "scope.google = scope.google || {};\n",
              "scope.google.colab = scope.google.colab || {};\n",
              "scope.google.colab._files = {\n",
              "  _uploadFiles,\n",
              "  _uploadFilesContinue,\n",
              "};\n",
              "})(self);\n",
              "</script> "
            ]
          },
          "metadata": {}
        },
        {
          "output_type": "stream",
          "name": "stdout",
          "text": [
            "Saving book-game-corner-d8d141ed5ac5.json to book-game-corner-d8d141ed5ac5.json\n"
          ]
        }
      ],
      "source": [
        "from google.colab import files\n",
        "uploaded = files.upload()\n"
      ]
    },
    {
      "cell_type": "code",
      "source": [
        "import sqlite3\n",
        "import datetime\n",
        "import uuid\n",
        "from googleapiclient.discovery import build\n",
        "from google.oauth2.service_account import Credentials\n",
        "from flask import Flask, jsonify\n",
        "import telebot\n",
        "import numpy as np\n",
        "import random"
      ],
      "metadata": {
        "id": "aFT7NdQEVy-A"
      },
      "execution_count": null,
      "outputs": []
    },
    {
      "cell_type": "markdown",
      "source": [
        "# **Configuration**"
      ],
      "metadata": {
        "id": "psHdvjsIWDuN"
      }
    },
    {
      "cell_type": "code",
      "source": [
        "TELEGRAM_API_TOKEN = \"7293862600:AAGdarl5Ov0qkxCKNci3f-6DN2ymtY78d3Q\"\n",
        "bot = telebot.TeleBot(TELEGRAM_API_TOKEN)"
      ],
      "metadata": {
        "id": "xadca5RWWQi5"
      },
      "execution_count": null,
      "outputs": []
    },
    {
      "cell_type": "code",
      "source": [
        "app = Flask(__name__)"
      ],
      "metadata": {
        "id": "yBdKoEc2WTLZ"
      },
      "execution_count": null,
      "outputs": []
    },
    {
      "cell_type": "code",
      "source": [
        "SCOPES = ['https://www.googleapis.com/auth/spreadsheets.readonly']\n",
        "SERVICE_ACCOUNT_FILE = '/content/book-game-corner-d8d141ed5ac5.json'\n",
        "credentials = Credentials.from_service_account_file(SERVICE_ACCOUNT_FILE, scopes=SCOPES)\n",
        "service = build('sheets', 'v4', credentials=credentials)\n",
        "SPREADSHEET_ID = '1FcD4uiMW2YBte6F63LwTQEup8rAavClTtlIGqr_vMgI'\n",
        "RANGE_NAME = \"'Form Responses 1'!B:F\""
      ],
      "metadata": {
        "id": "wlF34TLwWUrF"
      },
      "execution_count": null,
      "outputs": []
    },
    {
      "cell_type": "markdown",
      "source": [
        "# **Database**"
      ],
      "metadata": {
        "id": "vC4h71SKWX3p"
      }
    },
    {
      "cell_type": "code",
      "source": [
        "conn = sqlite3.connect('game_corner.db', check_same_thread=False)\n",
        "cursor = conn.cursor()"
      ],
      "metadata": {
        "id": "YIX0KF0RWcjZ"
      },
      "execution_count": null,
      "outputs": []
    },
    {
      "cell_type": "code",
      "source": [
        "def init_db():\n",
        "    cursor.execute(\"\"\"\n",
        "        CREATE TABLE IF NOT EXISTS students (\n",
        "            name TEXT,\n",
        "            nim TEXT PRIMARY KEY,\n",
        "            program TEXT,\n",
        "            email TEXT,\n",
        "            telegram_id TEXT\n",
        "        )\n",
        "    \"\"\")\n",
        "    cursor.execute(\"\"\"\n",
        "        CREATE TABLE IF NOT EXISTS bookings (\n",
        "            booking_id TEXT PRIMARY KEY,\n",
        "            student_nim TEXT,\n",
        "            console_id TEXT,\n",
        "            booking_time TEXT,\n",
        "            queue_position INTEGER,\n",
        "            FOREIGN KEY (student_nim) REFERENCES students (nim)\n",
        "        )\n",
        "    \"\"\")\n",
        "    cursor.execute(\"\"\"\n",
        "        CREATE TABLE IF NOT EXISTS consoles (\n",
        "            console_id TEXT PRIMARY KEY,\n",
        "            name TEXT\n",
        "        )\n",
        "    \"\"\")\n",
        "    conn.commit()"
      ],
      "metadata": {
        "id": "KmjjYS98Wew_"
      },
      "execution_count": null,
      "outputs": []
    },
    {
      "cell_type": "code",
      "source": [
        "def insert_dummy_students():\n",
        "    students = [\n",
        "       (\"Nabila\", \"202410120123456\", \"Teknik Informatika\", \"nabila@student.ub.ac.id\", \"1109041774\"),\n",
        "        (\"Fatiha\", \"202410120223457\", \"Teknik Informatika\", \"fatiha@student.ub.ac.id\", \"1487681153\"),\n",
        "        (\"Laela\", \"202410120323458\", \"Teknik Informatika\", \"laela@student.ub.ac.id\", \"1168135991\"),\n",
        "        (\"Karena\", \"202410120423459\", \"Teknik Informatika\", \"karena@student.ub.ac.id\", \"1109041774\"),\n",
        "        (\"Amala\", \"202410120523460\", \"Teknik Informatika\", \"amala@student.ub.ac.id\", \"1487681153\"),\n",
        "        (\"Fajri\", \"202410120623461\", \"Teknik Informatika\", \"fajri@student.ub.ac.id\", \"1168135991\"),\n",
        "        (\"Salma\", \"202410120723462\", \"Teknik Informatika\", \"salma@student.ub.ac.id\", \"1109041774\"),\n",
        "        (\"Ramadhianti\", \"202410120823463\", \"Teknik Informatika\", \"ramadhianti@student.ub.ac.id\", \"1487681153\"),\n",
        "        (\"Zakir\", \"202410120923464\", \"Teknik Informatika\", \"zakir@student.ub.ac.id\", \"1168135991\"),\n",
        "        (\"Lathani\", \"202410121023465\", \"Teknik Informatika\", \"lathani@student.ub.ac.id\", \"1109041774\"),\n",
        "        (\"Pratama\", \"202410121123466\", \"Sistem Informasi\", \"pratama@student.ub.ac.id\", \"1487681153\"),\n",
        "        (\"Aufa\", \"202410121223467\", \"Sistem Informasi\", \"aufa@student.ub.ac.id\", \"1168135991\"),\n",
        "        (\"Dhila\", \"202410121323468\", \"Sistem Informasi\", \"dhila@student.ub.ac.id\", \"1487681153\"),\n",
        "        (\"Sarah\", \"202410121423469\", \"Sistem Informasi\", \"sarah@student.ub.ac.id\", \"1487681153\"),\n",
        "        (\"Rayan\", \"202410121523470\", \"Sistem Informasi\", \"rayan@student.ub.ac.id\", \"1168135991\"),\n",
        "        (\"Hida\", \"202410121623471\", \"Sistem Informasi\", \"hida@student.ub.ac.id\", \"1487681153\"),\n",
        "        (\"Roiyan\", \"202410121723472\", \"Sistem Informasi\", \"roiyan@student.ub.ac.id\", \"1168135991\"),\n",
        "        (\"Bagas\", \"202410121823473\", \"Sistem Informasi\", \"bagas@student.ub.ac.id\", \"1487681153\"),\n",
        "        (\"Akmal\", \"202410121923474\", \"Sistem Informasi\", \"akmal@student.ub.ac.id\", \"1487681153\"),\n",
        "        (\"Ade\", \"202410122023475\", \"Sistem Informasi\", \"ade@student.ub.ac.id\", \"1168135991\"),\n",
        "        (\"Arya\", \"202410122123476\", \"Teknik komputer\", \"arya@student.ub.ac.id\", \"1487681153\"),\n",
        "        (\"Yusuf\", \"202410122223477\", \"Teknik komputer\", \"yusuf@student.ub.ac.id\", \"1487681153\"),\n",
        "        (\"Azzam\", \"202410122323478\", \"Teknik komputer\", \"azzam@student.ub.ac.id\", \"1168135991\"),\n",
        "        (\"Rama\", \"202410122423479\", \"Teknik komputer\", \"rama@student.ub.ac.id\", \"1487681153\"),\n",
        "        (\"Sakti\", \"202410122523480\", \"Teknik komputer\", \"sakti@student.ub.ac.id\", \"1487681153\"),\n",
        "        (\"Husain\", \"202410122623481\", \"Teknik komputer\", \"husain@student.ub.ac.id\", \"1168135991\"),\n",
        "        (\"Ali\", \"202410122723482\", \"Teknik komputer\", \"ali@student.ub.ac.id\", \"14876811537\"),\n",
        "        (\"Thalib\", \"202410122823483\", \"Teknik komputer\", \"thalib@student.ub.ac.id\", \"1109041774\"),\n",
        "        (\"Agam\", \"202410122923484\", \"Teknik komputer\", \"agam@student.ub.ac.id\", \"1168135991\"),\n",
        "        (\"Putra\", \"202410123023485\", \"Teknik komputer\", \"putra@student.ub.ac.id\", \"1487681153\"),\n",
        "        (\"Aliando\", \"202410123123486\", \"Teknologi Informasi\", \"aliando@student.ub.ac.id\", \"1109041774\"),\n",
        "        (\"Roufi\", \"202410123223487\", \"Teknologi Informasi\", \"roufi@student.ub.ac.id\", \"1168135991\"),\n",
        "        (\"Sultan\", \"202410123323488\", \"Teknologi Informasi\", \"sultan@student.ub.ac.id\", \"1487681153\"),\n",
        "        (\"Bambang\", \"202410123423489\", \"Teknologi Informasi\", \"bambang@student.ub.ac.id\", \"1168135991\"),\n",
        "        (\"Daffa\", \"202410123523490\", \"Teknologi Informasi\", \"daffa@student.ub.ac.id\", \"1109041774\"),\n",
        "        (\"Zaki\", \"202410123623491\", \"Teknologi Informasi\", \"zaki@student.ub.ac.id\", \"1168135991\"),\n",
        "        (\"Nanda\", \"202410123723492\", \"Teknologi Informasi\", \"nanda@student.ub.ac.id\", \"1487681153\"),\n",
        "        (\"Frandi\", \"202410123823493\", \"Teknologi Informasi\", \"frandi@student.ub.ac.id\", \"1109041774\"),\n",
        "        (\"Andika\", \"202410123923494\", \"Teknologi Informasi\", \"andika@student.ub.ac.id\", \"1168135991\"),\n",
        "        (\"Rahmat\", \"202410124023495\", \"Teknologi Informasi\", \"rahmat@student.ub.ac.id\", \"1487681153\"),\n",
        "    ]\n",
        "    cursor.executemany(\"\"\"\n",
        "        INSERT OR IGNORE INTO students (name, nim, program, email, telegram_id)\n",
        "        VALUES (?, ?, ?, ?, ?)\n",
        "    \"\"\", students)\n",
        "    conn.commit()"
      ],
      "metadata": {
        "id": "P2JwXiS7Wi-Q"
      },
      "execution_count": null,
      "outputs": []
    },
    {
      "cell_type": "code",
      "source": [
        "def insert_dummy_consoles():\n",
        "    consoles = [\n",
        "        (\"GC-001\", \"PlayStation 5\"),\n",
        "        (\"GC-002\", \"Xbox\"),\n",
        "        (\"GC-003\", \"Nintendo Switch\"),\n",
        "        (\"GC-004\", \"PlayStation 5\"),\n",
        "        (\"GC-005\", \"Xbox\"),\n",
        "    ]\n",
        "    cursor.executemany(\"\"\"\n",
        "        INSERT OR IGNORE INTO consoles (console_id, name)\n",
        "        VALUES (?, ?)\n",
        "    \"\"\", consoles)\n",
        "    conn.commit()"
      ],
      "metadata": {
        "id": "WZIS6JE1Wlwy"
      },
      "execution_count": null,
      "outputs": []
    },
    {
      "cell_type": "markdown",
      "source": [
        "# **Reinforcement Learning**\n",
        "\n"
      ],
      "metadata": {
        "id": "fkrIYcsdcZXZ"
      }
    },
    {
      "cell_type": "code",
      "source": [
        "def get_all_consoles():\n",
        "    result = cursor.execute(\"SELECT console_id FROM consoles\").fetchall()\n",
        "    print(f\"Consoles available: {result}\")  # Debugging\n",
        "    return result\n",
        "\n",
        "\n",
        "# Action: Menugaskan mahasiswa ke konsol tertentu\n",
        "def take_action(console_id):\n",
        "    cursor.execute(\"\"\"\n",
        "        SELECT c.console_id, COUNT(b.booking_id) as queue_count\n",
        "        FROM consoles c\n",
        "        LEFT JOIN bookings b ON c.console_id = b.console_id\n",
        "        WHERE c.console_id = ?\n",
        "        GROUP BY c.console_id\n",
        "    \"\"\", (console_id,))\n",
        "    return cursor.fetchone()\n",
        "\n",
        "\n",
        "# Reward: Evaluasi alokasi\n",
        "def get_reward(console_id, queue_position, start_time, end_time):\n",
        "    max_closing_time = datetime.datetime.strptime(\"17:00\", \"%H:%M\")\n",
        "    if end_time > max_closing_time:\n",
        "        return -10  # Penalti jika waktu bermain melampaui batas\n",
        "    utilization = 10 if end_time <= max_closing_time else -5\n",
        "    return utilization - queue_position  # Reward berdasarkan posisi antrean dan pemanfaatan\n",
        "\n",
        "# State: [jumlah mahasiswa dalam antrean, waktu sekarang dalam menit, konsol yang tersedia]\n",
        "def get_state():\n",
        "    cursor.execute(\"SELECT COUNT(*) FROM bookings\")\n",
        "    queue_size = cursor.fetchone()[0]\n",
        "    current_time = datetime.datetime.now()\n",
        "    opening_time = datetime.datetime.strptime(\"08:00\", \"%H:%M\")\n",
        "    max_closing_time = datetime.datetime.strptime(\"17:00\", \"%H:%M\")\n",
        "\n",
        "    if current_time < opening_time:\n",
        "        current_time = opening_time\n",
        "    elif current_time > max_closing_time:\n",
        "        current_time = max_closing_time\n",
        "\n",
        "    elapsed_minutes = (current_time - opening_time).seconds // 60\n",
        "    total_consoles = len(get_all_consoles())\n",
        "    return np.array([queue_size, elapsed_minutes, total_consoles])"
      ],
      "metadata": {
        "id": "ZeusLdIUaEzC"
      },
      "execution_count": null,
      "outputs": []
    },
    {
      "cell_type": "code",
      "source": [
        "# Hyperparameters\n",
        "alpha = 0.1  # Learning rate\n",
        "gamma = 0.9  # Discount factor\n",
        "epsilon = 0.2  # Exploration rate"
      ],
      "metadata": {
        "id": "o9qNZEjscf3F"
      },
      "execution_count": null,
      "outputs": []
    },
    {
      "cell_type": "code",
      "source": [
        "class ReinforcementAgent:\n",
        "    def __init__(self, num_states, num_actions, alpha=0.1, gamma=0.9, epsilon=0.2):\n",
        "        self.q_table = np.zeros((num_states, num_actions))\n",
        "        self.alpha = alpha\n",
        "        self.gamma = gamma\n",
        "        self.epsilon = epsilon\n",
        "\n",
        "    def choose_action(self, state):\n",
        "        state_index = hash(tuple(state)) % len(self.q_table)\n",
        "        if random.uniform(0, 1) < self.epsilon:\n",
        "            return random.choice(range(self.q_table.shape[1]))  # Exploration\n",
        "        return np.argmax(self.q_table[state_index])  # Exploitation\n",
        "\n",
        "    def update_q_table(self, state, action, reward, next_state):\n",
        "      state_index = hash(tuple(state)) % self.q_table.shape[0]\n",
        "      next_state_index = hash(tuple(next_state)) % self.q_table.shape[0]\n",
        "      self.q_table[state_index, action] += self.alpha * (\n",
        "          reward + self.gamma * np.max(self.q_table[next_state_index]) - self.q_table[state_index, action]\n",
        "      )\n",
        "\n",
        "# Inisialisasi agen\n",
        "num_states = 100\n",
        "num_actions = len(get_all_consoles())\n",
        "agent = ReinforcementAgent(num_states, num_actions)\n"
      ],
      "metadata": {
        "colab": {
          "base_uri": "https://localhost:8080/"
        },
        "id": "spIPub_idaKu",
        "outputId": "f1d27080-1d05-4b6b-ef61-456322d421f2"
      },
      "execution_count": null,
      "outputs": [
        {
          "output_type": "stream",
          "name": "stdout",
          "text": [
            "Consoles available: [('GC-001',), ('GC-002',), ('GC-003',), ('GC-004',), ('GC-005',)]\n"
          ]
        }
      ]
    },
    {
      "cell_type": "code",
      "source": [
        "def add_booking(student_nim):\n",
        "    state = get_state()\n",
        "    all_consoles = get_all_consoles()\n",
        "    if not all_consoles:\n",
        "        print(\"No consoles available for booking.\")\n",
        "        return None\n",
        "\n",
        "    action = agent.choose_action(state)\n",
        "    console_id = all_consoles[action][0]\n",
        "    console = take_action(console_id)\n",
        "    if not console:\n",
        "        return None\n",
        "\n",
        "    console_id, queue_count = console\n",
        "    try:\n",
        "        queue_count = int(queue_count)  # Mengubah nilai queue_count menjadi integer\n",
        "    except ValueError:\n",
        "        raise ValueError(f\"Invalid queue_count: {queue_count}\")\n",
        "\n",
        "    booking_id = str(uuid.uuid4())\n",
        "    opening_time = datetime.datetime.strptime(\"08:00\", \"%H:%M\")\n",
        "    max_closing_time = datetime.datetime.strptime(\"17:00\", \"%H:%M\")\n",
        "\n",
        "    global_position = queue_count\n",
        "    play_start_time = opening_time + datetime.timedelta(hours=global_position // len(all_consoles))\n",
        "    play_end_time = play_start_time + datetime.timedelta(hours=1)\n",
        "\n",
        "    if play_start_time >= max_closing_time or play_end_time > max_closing_time:\n",
        "        reward = get_reward(console_id, global_position, play_start_time, play_end_time)\n",
        "        agent.update_q_table(state, action, reward, state)\n",
        "        return None\n",
        "\n",
        "    reward = get_reward(console_id, global_position, play_start_time, play_end_time)\n",
        "    next_state = get_state()\n",
        "    agent.update_q_table(state, action, reward, next_state)\n",
        "\n",
        "    booking_time = play_start_time.strftime(\"%Y-%m-%d %H:%M:%S\")\n",
        "    cursor.execute(\"\"\"\n",
        "        INSERT INTO bookings (booking_id, student_nim, console_id, booking_time, queue_position)\n",
        "        VALUES (?, ?, ?, ?, ?)\n",
        "    \"\"\", (booking_id, student_nim, console_id, booking_time, global_position + 1))\n",
        "    conn.commit()\n",
        "\n",
        "    return booking_id, console_id, global_position + 1, play_start_time.strftime(\"%H:%M\"), play_end_time.strftime(\"%H:%M\")\n"
      ],
      "metadata": {
        "id": "aBd1VWBKWxxd"
      },
      "execution_count": null,
      "outputs": []
    },
    {
      "cell_type": "code",
      "source": [
        "def get_next_console():\n",
        "    cursor.execute(\"\"\"\n",
        "        SELECT c.console_id, COUNT(b.booking_id) as queue_count\n",
        "        FROM consoles c\n",
        "        LEFT JOIN bookings b ON c.console_id = b.console_id\n",
        "        GROUP BY c.console_id\n",
        "        ORDER BY queue_count ASC, c.console_id ASC\n",
        "        LIMIT 1\n",
        "    \"\"\")\n",
        "    result = cursor.fetchone()\n",
        "    print(f\"Query result: {result}\")  # Debugging\n",
        "    if result:\n",
        "        console_id, queue_count = result\n",
        "        return console_id, int(queue_count)\n",
        "    return None\n"
      ],
      "metadata": {
        "id": "yrCFTgRFWrmY"
      },
      "execution_count": null,
      "outputs": []
    },
    {
      "cell_type": "markdown",
      "source": [
        "# **Telegram**"
      ],
      "metadata": {
        "id": "CH97hkmCW10j"
      }
    },
    {
      "cell_type": "code",
      "source": [
        "def send_telegram_message(telegram_id, message):\n",
        "    if not telegram_id.isdigit():\n",
        "        print(f\"Invalid telegram_id: {telegram_id}\")\n",
        "        return\n",
        "    try:\n",
        "        print(f\"Sending to Telegram ID: {telegram_id} | Message: {message}\")\n",
        "        bot.send_message(telegram_id, message)\n",
        "    except Exception as e:\n",
        "        print(f\"Error sending message to {telegram_id}: {e}\")"
      ],
      "metadata": {
        "id": "EzKigNG-W0kw"
      },
      "execution_count": null,
      "outputs": []
    },
    {
      "cell_type": "markdown",
      "source": [
        "# **Google Sheets**"
      ],
      "metadata": {
        "id": "ELLyhow7W-e2"
      }
    },
    {
      "cell_type": "code",
      "source": [
        "def process_google_sheets():\n",
        "    sheet = service.spreadsheets()\n",
        "    result = sheet.values().get(spreadsheetId=SPREADSHEET_ID, range=RANGE_NAME).execute()\n",
        "    values = result.get('values', [])\n",
        "\n",
        "    print(\"Data from Google Sheets:\")\n",
        "    for row in values:\n",
        "        print(row)\n",
        "\n",
        "    if not values:\n",
        "        return jsonify({\"message\": \"Tidak ada data di Google Sheets.\"}), 400\n",
        "\n",
        "    results = []\n",
        "    for row in values[1:]:\n",
        "        if len(row) < 5:\n",
        "            print(f\"Skipping row with insufficient data: {row}\")\n",
        "            continue\n",
        "        nama, nim, program, email, telegram_id = row[:5]\n",
        "        cursor.execute(\"SELECT * FROM students WHERE nim = ?\", (nim,))\n",
        "        student = cursor.fetchone()\n",
        "        if student:\n",
        "            booking_data = add_booking(nim)\n",
        "            if booking_data:\n",
        "                booking_id, console_id, queue_position, start_time, end_time = booking_data\n",
        "                message = f\"Hi {nama}, booking berhasil!\\nDetail:\\n- ID: {booking_id}\\n- Konsol: {console_id}\\n- Posisi: {queue_position}\\n- Waktu: {start_time} - {end_time}\"\n",
        "                send_telegram_message(telegram_id, message)\n",
        "                results.append({\"nim\": nim, \"status\": \"Berhasil\", \"booking_id\": booking_id})\n",
        "            else:\n",
        "                send_telegram_message(telegram_id, f\"Hi {nama}, booking gagal. Tidak ada konsol tersedia.\")\n",
        "                results.append({\"nim\": nim, \"status\": \"Gagal\"})\n",
        "        else:\n",
        "            send_telegram_message(telegram_id, f\"Hi {nama}, Anda tidak terdaftar.\")\n",
        "            results.append({\"nim\": nim, \"status\": \"Tidak Terdaftar\"})\n",
        "    return jsonify(results)"
      ],
      "metadata": {
        "id": "9vLR12eZW90M"
      },
      "execution_count": null,
      "outputs": []
    },
    {
      "cell_type": "markdown",
      "source": [
        "# **Main**"
      ],
      "metadata": {
        "id": "ya1clbLdXElT"
      }
    },
    {
      "cell_type": "code",
      "source": [
        "if __name__ == '__main__':\n",
        "    init_db()\n",
        "    insert_dummy_students()\n",
        "    insert_dummy_consoles()\n",
        "\n",
        "    num_consoles = len(get_all_consoles())\n",
        "    num_states = 100\n",
        "    agent = ReinforcementAgent(num_states, num_consoles)\n",
        "\n",
        "    with app.app_context():\n",
        "        process_google_sheets()\n",
        "    app.run()\n"
      ],
      "metadata": {
        "colab": {
          "base_uri": "https://localhost:8080/"
        },
        "id": "2Dysmc62XHNf",
        "outputId": "6e0a9f4a-aacc-4bb8-e5e9-593f7ecbd7a0"
      },
      "execution_count": null,
      "outputs": [
        {
          "output_type": "stream",
          "name": "stdout",
          "text": [
            "Consoles available: [('GC-001',), ('GC-002',), ('GC-003',), ('GC-004',), ('GC-005',)]\n",
            "Data from Google Sheets:\n",
            "['nama', 'nim', 'program', 'email', 'telegram_id']\n",
            "['Fatiha', '202410120223457', 'Teknik Informatika', 'fatiha@student.ub.ac.id', '1487681153']\n",
            "['Laela', '202410120323458', 'Teknik Informatika', 'laela@student.ub.ac.id', '1109041774']\n",
            "['Nabila', '202410120123456', 'Teknik Informatika', 'nabila@student.ub.ac.id', '1109041774']\n",
            "['Amala', '202410120523460', 'Teknik Informatika', 'amala@student.ub.ac.id', '1109041774']\n",
            "['Nabila', '202410120123456', 'Teknik Informatika', 'nabila@student.ub.ac.id', '1109041774']\n",
            "['Nabila', '202410120123456', 'Teknik Informatika', 'nabila@student.ub.ac.id', '1109041774']\n",
            "['Laela ', '202410120323458', 'Teknik Informatika', 'laela@student.ub.ac.id', '1168135991']\n",
            "['Nabila', '202410120123456', 'Teknik Informatika', 'nabila@student.ub.ac.id', '1109041774']\n",
            "['Joko', '202410123723111', 'Teknik Informatika', 'joko@student.ub.ac.id', '1487681153']\n",
            "['Rahmat', '202410124023495', 'Teknologi Informasi', 'rahmat@student.ub.ac.id', '1487681153']\n",
            "Consoles available: [('GC-001',), ('GC-002',), ('GC-003',), ('GC-004',), ('GC-005',)]\n",
            "Consoles available: [('GC-001',), ('GC-002',), ('GC-003',), ('GC-004',), ('GC-005',)]\n",
            "Consoles available: [('GC-001',), ('GC-002',), ('GC-003',), ('GC-004',), ('GC-005',)]\n",
            "Sending to Telegram ID: 1487681153 | Message: Hi Fatiha, booking berhasil!\n",
            "Detail:\n",
            "- ID: c2d665ab-a8ca-43f1-8e42-7018be36cfc6\n",
            "- Konsol: GC-005\n",
            "- Posisi: 6\n",
            "- Waktu: 09:00 - 10:00\n",
            "Consoles available: [('GC-001',), ('GC-002',), ('GC-003',), ('GC-004',), ('GC-005',)]\n",
            "Consoles available: [('GC-001',), ('GC-002',), ('GC-003',), ('GC-004',), ('GC-005',)]\n",
            "Consoles available: [('GC-001',), ('GC-002',), ('GC-003',), ('GC-004',), ('GC-005',)]\n",
            "Sending to Telegram ID: 1109041774 | Message: Hi Laela, booking berhasil!\n",
            "Detail:\n",
            "- ID: 5a7121dc-e398-499f-9944-2d1e39f33042\n",
            "- Konsol: GC-002\n",
            "- Posisi: 7\n",
            "- Waktu: 09:00 - 10:00\n",
            "Consoles available: [('GC-001',), ('GC-002',), ('GC-003',), ('GC-004',), ('GC-005',)]\n",
            "Consoles available: [('GC-001',), ('GC-002',), ('GC-003',), ('GC-004',), ('GC-005',)]\n",
            "Consoles available: [('GC-001',), ('GC-002',), ('GC-003',), ('GC-004',), ('GC-005',)]\n",
            "Sending to Telegram ID: 1109041774 | Message: Hi Nabila, booking berhasil!\n",
            "Detail:\n",
            "- ID: 8d8aa26e-e439-4db5-87f3-195be4cf8e8c\n",
            "- Konsol: GC-001\n",
            "- Posisi: 7\n",
            "- Waktu: 09:00 - 10:00\n",
            "Consoles available: [('GC-001',), ('GC-002',), ('GC-003',), ('GC-004',), ('GC-005',)]\n",
            "Consoles available: [('GC-001',), ('GC-002',), ('GC-003',), ('GC-004',), ('GC-005',)]\n",
            "Consoles available: [('GC-001',), ('GC-002',), ('GC-003',), ('GC-004',), ('GC-005',)]\n",
            "Sending to Telegram ID: 1109041774 | Message: Hi Amala, booking berhasil!\n",
            "Detail:\n",
            "- ID: f48edd8d-d284-4395-8642-e2ae489a0d12\n",
            "- Konsol: GC-001\n",
            "- Posisi: 8\n",
            "- Waktu: 09:00 - 10:00\n",
            "Consoles available: [('GC-001',), ('GC-002',), ('GC-003',), ('GC-004',), ('GC-005',)]\n",
            "Consoles available: [('GC-001',), ('GC-002',), ('GC-003',), ('GC-004',), ('GC-005',)]\n",
            "Consoles available: [('GC-001',), ('GC-002',), ('GC-003',), ('GC-004',), ('GC-005',)]\n",
            "Sending to Telegram ID: 1109041774 | Message: Hi Nabila, booking berhasil!\n",
            "Detail:\n",
            "- ID: 4ee746ff-b336-4392-8843-a5490c9e4b4e\n",
            "- Konsol: GC-001\n",
            "- Posisi: 9\n",
            "- Waktu: 09:00 - 10:00\n",
            "Consoles available: [('GC-001',), ('GC-002',), ('GC-003',), ('GC-004',), ('GC-005',)]\n",
            "Consoles available: [('GC-001',), ('GC-002',), ('GC-003',), ('GC-004',), ('GC-005',)]\n",
            "Consoles available: [('GC-001',), ('GC-002',), ('GC-003',), ('GC-004',), ('GC-005',)]\n",
            "Sending to Telegram ID: 1109041774 | Message: Hi Nabila, booking berhasil!\n",
            "Detail:\n",
            "- ID: b144b9b6-9407-43dc-be91-3a3bb3196b8e\n",
            "- Konsol: GC-001\n",
            "- Posisi: 10\n",
            "- Waktu: 09:00 - 10:00\n",
            "Consoles available: [('GC-001',), ('GC-002',), ('GC-003',), ('GC-004',), ('GC-005',)]\n",
            "Consoles available: [('GC-001',), ('GC-002',), ('GC-003',), ('GC-004',), ('GC-005',)]\n",
            "Consoles available: [('GC-001',), ('GC-002',), ('GC-003',), ('GC-004',), ('GC-005',)]\n",
            "Sending to Telegram ID: 1168135991 | Message: Hi Laela , booking berhasil!\n",
            "Detail:\n",
            "- ID: 5345365c-8720-41e9-8673-2b9bfe8f9a0e\n",
            "- Konsol: GC-001\n",
            "- Posisi: 11\n",
            "- Waktu: 10:00 - 11:00\n",
            "Consoles available: [('GC-001',), ('GC-002',), ('GC-003',), ('GC-004',), ('GC-005',)]\n",
            "Consoles available: [('GC-001',), ('GC-002',), ('GC-003',), ('GC-004',), ('GC-005',)]\n",
            "Consoles available: [('GC-001',), ('GC-002',), ('GC-003',), ('GC-004',), ('GC-005',)]\n",
            "Sending to Telegram ID: 1109041774 | Message: Hi Nabila, booking berhasil!\n",
            "Detail:\n",
            "- ID: ee05e275-b110-40ae-8811-7d5ebb385064\n",
            "- Konsol: GC-005\n",
            "- Posisi: 7\n",
            "- Waktu: 09:00 - 10:00\n",
            "Sending to Telegram ID: 1487681153 | Message: Hi Joko, Anda tidak terdaftar.\n",
            "Consoles available: [('GC-001',), ('GC-002',), ('GC-003',), ('GC-004',), ('GC-005',)]\n",
            "Consoles available: [('GC-001',), ('GC-002',), ('GC-003',), ('GC-004',), ('GC-005',)]\n",
            "Consoles available: [('GC-001',), ('GC-002',), ('GC-003',), ('GC-004',), ('GC-005',)]\n",
            "Sending to Telegram ID: 1487681153 | Message: Hi Rahmat, booking berhasil!\n",
            "Detail:\n",
            "- ID: ea1621ad-a9fe-4439-ad77-f586702d1831\n",
            "- Konsol: GC-001\n",
            "- Posisi: 12\n",
            "- Waktu: 10:00 - 11:00\n",
            " * Serving Flask app '__main__'\n",
            " * Debug mode: off\n"
          ]
        },
        {
          "output_type": "stream",
          "name": "stderr",
          "text": [
            "INFO:werkzeug:\u001b[31m\u001b[1mWARNING: This is a development server. Do not use it in a production deployment. Use a production WSGI server instead.\u001b[0m\n",
            " * Running on http://127.0.0.1:5000\n",
            "INFO:werkzeug:\u001b[33mPress CTRL+C to quit\u001b[0m\n"
          ]
        }
      ]
    }
  ]
}